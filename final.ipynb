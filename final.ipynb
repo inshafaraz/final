{
  "metadata": {
    "language_info": {
      "codemirror_mode": {
        "name": "python",
        "version": 3
      },
      "file_extension": ".py",
      "mimetype": "text/x-python",
      "name": "python",
      "nbconvert_exporter": "python",
      "pygments_lexer": "ipython3",
      "version": "3.8"
    },
    "kernelspec": {
      "name": "python",
      "display_name": "Python (Pyodide)",
      "language": "python"
    }
  },
  "nbformat_minor": 4,
  "nbformat": 4,
  "cells": [
    {
      "cell_type": "markdown",
      "source": "**Data Science Notebook**\n",
      "metadata": {}
    },
    {
      "cell_type": "markdown",
      "source": "#Introduction:\n\nWelcome to this Data Science Notebook! This notebook is designed to help you learn and practice some of the fundamental concepts and techniques used in Data Science. Whether you are a beginner or an experienced data scientist, this notebook will provide you with an opportunity to explore different data science tools and libraries, as well as practice using them through hands-on exercises and examples.",
      "metadata": {}
    },
    {
      "cell_type": "markdown",
      "source": "Data science languages:\n- Python\n- R\n- SQL\n- MATLAB\n",
      "metadata": {}
    },
    {
      "cell_type": "markdown",
      "source": "Data science libraries:\n- NumPy\n- Pandas\n- Matplotlib\n- Seaborn\n- Scikit-learn\n- TensorFlow\n",
      "metadata": {}
    },
    {
      "cell_type": "markdown",
      "source": "| Category | Tools |\n| --- | --- |\n| Programming Languages | Python, R, SQL, MATLAB |\n| Data Manipulation | Pandas, NumPy, Dask |\n| Data Visualization | Matplotlib, Seaborn, Plotly |\n| Machine Learning | Scikit-learn, TensorFlow, Keras |\n| Big Data Processing | Apache Spark, Hadoop, Apache Flink |\n",
      "metadata": {}
    },
    {
      "cell_type": "markdown",
      "source": "Arithmetic Expression Examples:\n- Addition: 5 + 3 = 8\n- Subtraction: 7 - 2 = 5\n- Multiplication: 4 * 6 = 24\n- Division: 10 / 2 = 5\n- Exponentiation: 2 ** 3 = 8\n- Modulus: 10 % 3 = 1\n",
      "metadata": {}
    },
    {
      "cell_type": "code",
      "source": "x = 1\ny = 2\nz = x * y + 3\nprint(z)\n",
      "metadata": {
        "trusted": true
      },
      "execution_count": 3,
      "outputs": [
        {
          "name": "stdout",
          "text": "5\n",
          "output_type": "stream"
        }
      ]
    },
    {
      "cell_type": "code",
      "source": "minutes = 120\nhours = minutes / 60\nprint(hours)\n",
      "metadata": {
        "trusted": true
      },
      "execution_count": 4,
      "outputs": [
        {
          "name": "stdout",
          "text": "2.0\n",
          "output_type": "stream"
        }
      ]
    },
    {
      "cell_type": "markdown",
      "source": "**Objectives:**\n\nFamiliarize with Jupyter Notebooks and its capabilities\nLearn basic data science concepts and tools\nPractice using Python for data science tasks",
      "metadata": {}
    },
    {
      "cell_type": "markdown",
      "source": "**Author Name:**\nInsha Faraz",
      "metadata": {}
    },
    {
      "cell_type": "code",
      "source": "",
      "metadata": {},
      "execution_count": null,
      "outputs": []
    }
  ]
}